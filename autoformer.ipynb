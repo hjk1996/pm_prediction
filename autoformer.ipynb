{
 "cells": [
  {
   "cell_type": "code",
   "execution_count": 22,
   "metadata": {},
   "outputs": [],
   "source": [
    "import sys\n",
    "import pandas as pd\n",
    "import numpy as np\n",
    "import matplotlib.pyplot as plt\n",
    "from glob import glob\n",
    "import argparse\n",
    "import torch"
   ]
  },
  {
   "cell_type": "code",
   "execution_count": 23,
   "metadata": {},
   "outputs": [],
   "source": [
    "sys.path += [\"/Users/khj/Development/pollution/Autoformer\"]"
   ]
  },
  {
   "cell_type": "code",
   "execution_count": 24,
   "metadata": {},
   "outputs": [],
   "source": [
    "def get_y_files():\n",
    "    paths = glob('./dataset/TRAIN/*.csv')\n",
    "    dfs = []\n",
    "    for path in paths:\n",
    "        df = pd.read_csv(path)\n",
    "        dfs.append(df)\n",
    "    \n",
    "    return pd.concat(dfs, ignore_index=True)\n",
    "\n",
    "def get_x_files():\n",
    "    paths = glob('./dataset/TRAIN_AWS/*.csv')\n",
    "    dfs = []\n",
    "    for path in paths:\n",
    "        df = pd.read_csv(path)\n",
    "        dfs.append(df)\n",
    "    \n",
    "    return pd.concat(dfs, ignore_index=True)"
   ]
  },
  {
   "cell_type": "code",
   "execution_count": 25,
   "metadata": {},
   "outputs": [],
   "source": [
    "x = get_x_files()\n",
    "x = x.dropna(axis=0)\n",
    "y = get_y_files()\n",
    "y = y.dropna(axis=0)\n",
    "x_plus = y[['연도', '일시', '측정소', 'PM2.5']]\n",
    "data = pd.merge(x, x_plus, on=['연도', '일시'], how='right')\n",
    "year_mapping = {0: 2013, 1: 2014, 2: 2015, 3: 2016, 4: 2017, 5: 2018, 6: 2019}\n",
    "data['일시'] = data['연도'].apply(lambda x: str(year_mapping[x]) + \" \") + data['일시']\n",
    "data['일시'] = pd.to_datetime(data['일시'])\n",
    "data.drop(['연도'], axis=1, inplace=True)\n",
    "column_names = ['date', 'point', 'temp', 'degree', 'speed', 'rain', 'humidity', 'station', 'pm']\n",
    "data.columns = column_names\n",
    "data = data.dropna(axis=0)\n",
    "y = y['PM2.5']"
   ]
  },
  {
   "cell_type": "code",
   "execution_count": 14,
   "metadata": {},
   "outputs": [],
   "source": [
    "data.sort_values(by=['date', 'point'], inplace=True)\n",
    "data.drop(['point', 'station'], axis=1, inplace=True)\n",
    "data.to_csv('./dataset/autoformer_test.csv', index=False)\n"
   ]
  },
  {
   "cell_type": "code",
   "execution_count": 15,
   "metadata": {},
   "outputs": [],
   "source": [
    "# data.to_csv('./dataset/autoformer_test.csv', index=False)"
   ]
  },
  {
   "cell_type": "code",
   "execution_count": 16,
   "metadata": {},
   "outputs": [],
   "source": [
    "from Autoformer.data_provider.data_loader import Dataset_Custom"
   ]
  },
  {
   "cell_type": "code",
   "execution_count": 17,
   "metadata": {},
   "outputs": [],
   "source": [
    "dataset = Dataset_Custom(\n",
    "    root_path=\"./dataset\",\n",
    "    data_path=\"autoformer_test.csv\",\n",
    "    scale=False,\n",
    "    features=\"MS\",\n",
    "    target='pm',\n",
    ")"
   ]
  }
 ],
 "metadata": {
  "kernelspec": {
   "display_name": "pollution",
   "language": "python",
   "name": "python3"
  },
  "language_info": {
   "codemirror_mode": {
    "name": "ipython",
    "version": 3
   },
   "file_extension": ".py",
   "mimetype": "text/x-python",
   "name": "python",
   "nbconvert_exporter": "python",
   "pygments_lexer": "ipython3",
   "version": "3.9.16"
  },
  "orig_nbformat": 4
 },
 "nbformat": 4,
 "nbformat_minor": 2
}
