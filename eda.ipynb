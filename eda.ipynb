{
 "cells": [
  {
   "cell_type": "code",
   "execution_count": 1,
   "metadata": {},
   "outputs": [],
   "source": [
    "import pandas as pd\n",
    "import numpy as np\n",
    "import matplotlib.pyplot as plt\n",
    "from glob import glob"
   ]
  },
  {
   "cell_type": "code",
   "execution_count": 2,
   "metadata": {},
   "outputs": [],
   "source": [
    "def get_y_files():\n",
    "    paths = glob('./dataset/TRAIN/*.csv')\n",
    "    dfs = []\n",
    "    for path in paths:\n",
    "        df = pd.read_csv(path)\n",
    "        dfs.append(df)\n",
    "    \n",
    "    return pd.concat(dfs, ignore_index=True)\n",
    "\n",
    "def get_x_files():\n",
    "    paths = glob('./dataset/TRAIN_AWS/*.csv')\n",
    "    dfs = []\n",
    "    for path in paths:\n",
    "        df = pd.read_csv(path)\n",
    "        dfs.append(df)\n",
    "    \n",
    "    return pd.concat(dfs, ignore_index=True)"
   ]
  },
  {
   "cell_type": "code",
   "execution_count": 3,
   "metadata": {},
   "outputs": [],
   "source": [
    "x = get_x_files()\n",
    "y = get_y_files()\n",
    "x_plus = y[['연도', '일시', '측정소']]\n",
    "x = pd.merge(x, x_plus, on=['연도', '일시'])\n",
    "y = y['PM2.5']"
   ]
  },
  {
   "cell_type": "code",
   "execution_count": 4,
   "metadata": {},
   "outputs": [
    {
     "data": {
      "text/html": [
       "<div>\n",
       "<style scoped>\n",
       "    .dataframe tbody tr th:only-of-type {\n",
       "        vertical-align: middle;\n",
       "    }\n",
       "\n",
       "    .dataframe tbody tr th {\n",
       "        vertical-align: top;\n",
       "    }\n",
       "\n",
       "    .dataframe thead th {\n",
       "        text-align: right;\n",
       "    }\n",
       "</style>\n",
       "<table border=\"1\" class=\"dataframe\">\n",
       "  <thead>\n",
       "    <tr style=\"text-align: right;\">\n",
       "      <th></th>\n",
       "      <th>연도</th>\n",
       "      <th>일시</th>\n",
       "      <th>지점</th>\n",
       "      <th>기온(°C)</th>\n",
       "      <th>풍향(deg)</th>\n",
       "      <th>풍속(m/s)</th>\n",
       "      <th>강수량(mm)</th>\n",
       "      <th>습도(%)</th>\n",
       "      <th>측정소</th>\n",
       "    </tr>\n",
       "  </thead>\n",
       "  <tbody>\n",
       "    <tr>\n",
       "      <th>0</th>\n",
       "      <td>0</td>\n",
       "      <td>01-01 00:00</td>\n",
       "      <td>성거</td>\n",
       "      <td>0.157978</td>\n",
       "      <td>0.0125</td>\n",
       "      <td>0.012788</td>\n",
       "      <td>0.0</td>\n",
       "      <td>0.615</td>\n",
       "      <td>이원면</td>\n",
       "    </tr>\n",
       "    <tr>\n",
       "      <th>1</th>\n",
       "      <td>0</td>\n",
       "      <td>01-01 00:00</td>\n",
       "      <td>성거</td>\n",
       "      <td>0.157978</td>\n",
       "      <td>0.0125</td>\n",
       "      <td>0.012788</td>\n",
       "      <td>0.0</td>\n",
       "      <td>0.615</td>\n",
       "      <td>신흥동</td>\n",
       "    </tr>\n",
       "    <tr>\n",
       "      <th>2</th>\n",
       "      <td>0</td>\n",
       "      <td>01-01 00:00</td>\n",
       "      <td>성거</td>\n",
       "      <td>0.157978</td>\n",
       "      <td>0.0125</td>\n",
       "      <td>0.012788</td>\n",
       "      <td>0.0</td>\n",
       "      <td>0.615</td>\n",
       "      <td>동문동</td>\n",
       "    </tr>\n",
       "    <tr>\n",
       "      <th>3</th>\n",
       "      <td>0</td>\n",
       "      <td>01-01 00:00</td>\n",
       "      <td>성거</td>\n",
       "      <td>0.157978</td>\n",
       "      <td>0.0125</td>\n",
       "      <td>0.012788</td>\n",
       "      <td>0.0</td>\n",
       "      <td>0.615</td>\n",
       "      <td>독곶리</td>\n",
       "    </tr>\n",
       "    <tr>\n",
       "      <th>4</th>\n",
       "      <td>0</td>\n",
       "      <td>01-01 00:00</td>\n",
       "      <td>성거</td>\n",
       "      <td>0.157978</td>\n",
       "      <td>0.0125</td>\n",
       "      <td>0.012788</td>\n",
       "      <td>0.0</td>\n",
       "      <td>0.615</td>\n",
       "      <td>아름동</td>\n",
       "    </tr>\n",
       "  </tbody>\n",
       "</table>\n",
       "</div>"
      ],
      "text/plain": [
       "   연도           일시  지점    기온(°C)  풍향(deg)   풍속(m/s)  강수량(mm)  습도(%)  측정소\n",
       "0   0  01-01 00:00  성거  0.157978   0.0125  0.012788      0.0  0.615  이원면\n",
       "1   0  01-01 00:00  성거  0.157978   0.0125  0.012788      0.0  0.615  신흥동\n",
       "2   0  01-01 00:00  성거  0.157978   0.0125  0.012788      0.0  0.615  동문동\n",
       "3   0  01-01 00:00  성거  0.157978   0.0125  0.012788      0.0  0.615  독곶리\n",
       "4   0  01-01 00:00  성거  0.157978   0.0125  0.012788      0.0  0.615  아름동"
      ]
     },
     "execution_count": 4,
     "metadata": {},
     "output_type": "execute_result"
    }
   ],
   "source": [
    "x.head()"
   ]
  },
  {
   "cell_type": "code",
   "execution_count": 6,
   "metadata": {},
   "outputs": [
    {
     "data": {
      "text/plain": [
       "0    0.036\n",
       "1    0.040\n",
       "2    0.032\n",
       "3    0.040\n",
       "4    0.040\n",
       "Name: PM2.5, dtype: float64"
      ]
     },
     "execution_count": 6,
     "metadata": {},
     "output_type": "execute_result"
    }
   ],
   "source": [
    "y.head()"
   ]
  },
  {
   "cell_type": "code",
   "execution_count": 7,
   "metadata": {},
   "outputs": [
    {
     "data": {
      "text/plain": [
       "0          1900-01-01 00:00:00\n",
       "1          1900-01-01 00:00:00\n",
       "2          1900-01-01 00:00:00\n",
       "3          1900-01-01 00:00:00\n",
       "4          1900-01-01 00:00:00\n",
       "                   ...        \n",
       "17882635   1900-12-31 23:00:00\n",
       "17882636   1900-12-31 23:00:00\n",
       "17882637   1900-12-31 23:00:00\n",
       "17882638   1900-12-31 23:00:00\n",
       "17882639   1900-12-31 23:00:00\n",
       "Name: 일시, Length: 17882640, dtype: datetime64[ns]"
      ]
     },
     "execution_count": 7,
     "metadata": {},
     "output_type": "execute_result"
    }
   ],
   "source": [
    "pd.to_datetime(x['일시'], format='%m-%d %H:%M', errors='coerce')\n",
    "# data['month'] = data['datetime'].dt.month\n",
    "# data['day'] = data['datetime'].dt.day\n",
    "# data['hour'] = data['datetime'].dt.hour\n",
    "# data['minute'] = data['datetime'].dt.minute"
   ]
  },
  {
   "cell_type": "code",
   "execution_count": 8,
   "metadata": {},
   "outputs": [
    {
     "data": {
      "text/plain": [
       "(17882640, 596088)"
      ]
     },
     "execution_count": 8,
     "metadata": {},
     "output_type": "execute_result"
    }
   ],
   "source": [
    "len(x), len(y)"
   ]
  },
  {
   "cell_type": "code",
   "execution_count": 9,
   "metadata": {},
   "outputs": [
    {
     "data": {
      "text/html": [
       "<div>\n",
       "<style scoped>\n",
       "    .dataframe tbody tr th:only-of-type {\n",
       "        vertical-align: middle;\n",
       "    }\n",
       "\n",
       "    .dataframe tbody tr th {\n",
       "        vertical-align: top;\n",
       "    }\n",
       "\n",
       "    .dataframe thead th {\n",
       "        text-align: right;\n",
       "    }\n",
       "</style>\n",
       "<table border=\"1\" class=\"dataframe\">\n",
       "  <thead>\n",
       "    <tr style=\"text-align: right;\">\n",
       "      <th></th>\n",
       "      <th>연도</th>\n",
       "      <th>일시</th>\n",
       "      <th>지점</th>\n",
       "      <th>기온(°C)</th>\n",
       "      <th>풍향(deg)</th>\n",
       "      <th>풍속(m/s)</th>\n",
       "      <th>강수량(mm)</th>\n",
       "      <th>습도(%)</th>\n",
       "      <th>측정소</th>\n",
       "    </tr>\n",
       "  </thead>\n",
       "  <tbody>\n",
       "    <tr>\n",
       "      <th>0</th>\n",
       "      <td>0</td>\n",
       "      <td>01-01 00:00</td>\n",
       "      <td>성거</td>\n",
       "      <td>0.157978</td>\n",
       "      <td>0.0125</td>\n",
       "      <td>0.012788</td>\n",
       "      <td>0.0</td>\n",
       "      <td>0.615</td>\n",
       "      <td>이원면</td>\n",
       "    </tr>\n",
       "    <tr>\n",
       "      <th>1</th>\n",
       "      <td>0</td>\n",
       "      <td>01-01 00:00</td>\n",
       "      <td>성거</td>\n",
       "      <td>0.157978</td>\n",
       "      <td>0.0125</td>\n",
       "      <td>0.012788</td>\n",
       "      <td>0.0</td>\n",
       "      <td>0.615</td>\n",
       "      <td>신흥동</td>\n",
       "    </tr>\n",
       "    <tr>\n",
       "      <th>2</th>\n",
       "      <td>0</td>\n",
       "      <td>01-01 00:00</td>\n",
       "      <td>성거</td>\n",
       "      <td>0.157978</td>\n",
       "      <td>0.0125</td>\n",
       "      <td>0.012788</td>\n",
       "      <td>0.0</td>\n",
       "      <td>0.615</td>\n",
       "      <td>동문동</td>\n",
       "    </tr>\n",
       "    <tr>\n",
       "      <th>3</th>\n",
       "      <td>0</td>\n",
       "      <td>01-01 00:00</td>\n",
       "      <td>성거</td>\n",
       "      <td>0.157978</td>\n",
       "      <td>0.0125</td>\n",
       "      <td>0.012788</td>\n",
       "      <td>0.0</td>\n",
       "      <td>0.615</td>\n",
       "      <td>독곶리</td>\n",
       "    </tr>\n",
       "    <tr>\n",
       "      <th>4</th>\n",
       "      <td>0</td>\n",
       "      <td>01-01 00:00</td>\n",
       "      <td>성거</td>\n",
       "      <td>0.157978</td>\n",
       "      <td>0.0125</td>\n",
       "      <td>0.012788</td>\n",
       "      <td>0.0</td>\n",
       "      <td>0.615</td>\n",
       "      <td>아름동</td>\n",
       "    </tr>\n",
       "  </tbody>\n",
       "</table>\n",
       "</div>"
      ],
      "text/plain": [
       "   연도           일시  지점    기온(°C)  풍향(deg)   풍속(m/s)  강수량(mm)  습도(%)  측정소\n",
       "0   0  01-01 00:00  성거  0.157978   0.0125  0.012788      0.0  0.615  이원면\n",
       "1   0  01-01 00:00  성거  0.157978   0.0125  0.012788      0.0  0.615  신흥동\n",
       "2   0  01-01 00:00  성거  0.157978   0.0125  0.012788      0.0  0.615  동문동\n",
       "3   0  01-01 00:00  성거  0.157978   0.0125  0.012788      0.0  0.615  독곶리\n",
       "4   0  01-01 00:00  성거  0.157978   0.0125  0.012788      0.0  0.615  아름동"
      ]
     },
     "execution_count": 9,
     "metadata": {},
     "output_type": "execute_result"
    }
   ],
   "source": [
    "x.head()"
   ]
  },
  {
   "cell_type": "code",
   "execution_count": 10,
   "metadata": {},
   "outputs": [
    {
     "data": {
      "text/plain": [
       "0    0.036\n",
       "1    0.040\n",
       "2    0.032\n",
       "3    0.040\n",
       "4    0.040\n",
       "Name: PM2.5, dtype: float64"
      ]
     },
     "execution_count": 10,
     "metadata": {},
     "output_type": "execute_result"
    }
   ],
   "source": [
    "y.head()"
   ]
  },
  {
   "cell_type": "code",
   "execution_count": 11,
   "metadata": {},
   "outputs": [
    {
     "data": {
      "text/plain": [
       "array(['성거', '홍성죽도', '예산', '홍북', '호도', '서천', '대산', '오월드', '장동', '춘장대',\n",
       "       '유구', '논산', '옹도', '북격렬비도', '세종고운', '청양', '세천', '양화', '당진', '계룡',\n",
       "       '세종연서', '세종금남', '공주', '아산', '대천항', '태안', '안도', '정안', '세종전의', '정산'],\n",
       "      dtype=object)"
      ]
     },
     "execution_count": 11,
     "metadata": {},
     "output_type": "execute_result"
    }
   ],
   "source": [
    "x['지점'].unique()"
   ]
  },
  {
   "cell_type": "code",
   "execution_count": 13,
   "metadata": {},
   "outputs": [],
   "source": [
    "x = pd.merge(x, x_plus, on=['연도', '일시'])"
   ]
  },
  {
   "cell_type": "code",
   "execution_count": 14,
   "metadata": {},
   "outputs": [
    {
     "data": {
      "text/plain": [
       "0            01-01 00:00\n",
       "1            01-01 00:00\n",
       "2            01-01 00:00\n",
       "3            01-01 00:00\n",
       "4            01-01 00:00\n",
       "                ...     \n",
       "304004875    12-31 23:00\n",
       "304004876    12-31 23:00\n",
       "304004877    12-31 23:00\n",
       "304004878    12-31 23:00\n",
       "304004879    12-31 23:00\n",
       "Name: 일시, Length: 304004880, dtype: object"
      ]
     },
     "execution_count": 14,
     "metadata": {},
     "output_type": "execute_result"
    }
   ],
   "source": [
    "x['일시']"
   ]
  },
  {
   "cell_type": "code",
   "execution_count": 15,
   "metadata": {},
   "outputs": [
    {
     "data": {
      "text/html": [
       "<div>\n",
       "<style scoped>\n",
       "    .dataframe tbody tr th:only-of-type {\n",
       "        vertical-align: middle;\n",
       "    }\n",
       "\n",
       "    .dataframe tbody tr th {\n",
       "        vertical-align: top;\n",
       "    }\n",
       "\n",
       "    .dataframe thead th {\n",
       "        text-align: right;\n",
       "    }\n",
       "</style>\n",
       "<table border=\"1\" class=\"dataframe\">\n",
       "  <thead>\n",
       "    <tr style=\"text-align: right;\">\n",
       "      <th></th>\n",
       "      <th>연도</th>\n",
       "      <th>일시</th>\n",
       "      <th>지점</th>\n",
       "      <th>기온(°C)</th>\n",
       "      <th>풍향(deg)</th>\n",
       "      <th>풍속(m/s)</th>\n",
       "      <th>강수량(mm)</th>\n",
       "      <th>습도(%)</th>\n",
       "      <th>측정소_x</th>\n",
       "      <th>측정소_y</th>\n",
       "    </tr>\n",
       "  </thead>\n",
       "  <tbody>\n",
       "    <tr>\n",
       "      <th>0</th>\n",
       "      <td>0</td>\n",
       "      <td>01-01 00:00</td>\n",
       "      <td>성거</td>\n",
       "      <td>0.157978</td>\n",
       "      <td>0.0125</td>\n",
       "      <td>0.012788</td>\n",
       "      <td>0.0</td>\n",
       "      <td>0.615</td>\n",
       "      <td>이원면</td>\n",
       "      <td>이원면</td>\n",
       "    </tr>\n",
       "    <tr>\n",
       "      <th>1</th>\n",
       "      <td>0</td>\n",
       "      <td>01-01 00:00</td>\n",
       "      <td>성거</td>\n",
       "      <td>0.157978</td>\n",
       "      <td>0.0125</td>\n",
       "      <td>0.012788</td>\n",
       "      <td>0.0</td>\n",
       "      <td>0.615</td>\n",
       "      <td>이원면</td>\n",
       "      <td>신흥동</td>\n",
       "    </tr>\n",
       "    <tr>\n",
       "      <th>2</th>\n",
       "      <td>0</td>\n",
       "      <td>01-01 00:00</td>\n",
       "      <td>성거</td>\n",
       "      <td>0.157978</td>\n",
       "      <td>0.0125</td>\n",
       "      <td>0.012788</td>\n",
       "      <td>0.0</td>\n",
       "      <td>0.615</td>\n",
       "      <td>이원면</td>\n",
       "      <td>동문동</td>\n",
       "    </tr>\n",
       "    <tr>\n",
       "      <th>3</th>\n",
       "      <td>0</td>\n",
       "      <td>01-01 00:00</td>\n",
       "      <td>성거</td>\n",
       "      <td>0.157978</td>\n",
       "      <td>0.0125</td>\n",
       "      <td>0.012788</td>\n",
       "      <td>0.0</td>\n",
       "      <td>0.615</td>\n",
       "      <td>이원면</td>\n",
       "      <td>독곶리</td>\n",
       "    </tr>\n",
       "    <tr>\n",
       "      <th>4</th>\n",
       "      <td>0</td>\n",
       "      <td>01-01 00:00</td>\n",
       "      <td>성거</td>\n",
       "      <td>0.157978</td>\n",
       "      <td>0.0125</td>\n",
       "      <td>0.012788</td>\n",
       "      <td>0.0</td>\n",
       "      <td>0.615</td>\n",
       "      <td>이원면</td>\n",
       "      <td>아름동</td>\n",
       "    </tr>\n",
       "  </tbody>\n",
       "</table>\n",
       "</div>"
      ],
      "text/plain": [
       "   연도           일시  지점    기온(°C)  풍향(deg)   풍속(m/s)  강수량(mm)  습도(%) 측정소_x   \n",
       "0   0  01-01 00:00  성거  0.157978   0.0125  0.012788      0.0  0.615   이원면  \\\n",
       "1   0  01-01 00:00  성거  0.157978   0.0125  0.012788      0.0  0.615   이원면   \n",
       "2   0  01-01 00:00  성거  0.157978   0.0125  0.012788      0.0  0.615   이원면   \n",
       "3   0  01-01 00:00  성거  0.157978   0.0125  0.012788      0.0  0.615   이원면   \n",
       "4   0  01-01 00:00  성거  0.157978   0.0125  0.012788      0.0  0.615   이원면   \n",
       "\n",
       "  측정소_y  \n",
       "0   이원면  \n",
       "1   신흥동  \n",
       "2   동문동  \n",
       "3   독곶리  \n",
       "4   아름동  "
      ]
     },
     "execution_count": 15,
     "metadata": {},
     "output_type": "execute_result"
    }
   ],
   "source": [
    "x.head()"
   ]
  },
  {
   "cell_type": "code",
   "execution_count": 26,
   "metadata": {},
   "outputs": [
    {
     "data": {
      "text/plain": [
       "17"
      ]
     },
     "execution_count": 26,
     "metadata": {},
     "output_type": "execute_result"
    }
   ],
   "source": [
    "len(x['측정소'].unique())"
   ]
  },
  {
   "cell_type": "code",
   "execution_count": 28,
   "metadata": {},
   "outputs": [
    {
     "data": {
      "text/plain": [
       "1.0"
      ]
     },
     "execution_count": 28,
     "metadata": {},
     "output_type": "execute_result"
    }
   ],
   "source": [
    "y['PM2.5'].max()"
   ]
  },
  {
   "cell_type": "code",
   "execution_count": null,
   "metadata": {},
   "outputs": [],
   "source": [
    "# indepent variables\n",
    "\n",
    "# year (int): start from 0\n",
    "# datetime (str): 'MM-DD HH:MM' format\n",
    "# point (str): categoricla value, 30 unique values\n",
    "# temp (float): temperature in celsius. range from 0 to 1\n",
    "# degree (float): wind direction in degree. range from 0 to 1\n",
    "# speed (float): wind speed in m/s. range from 0 to 1\n",
    "# rain (float): rain in mm. range from 0 to 1\n",
    "# humidity (float): relative humidity in %. range from 0 to 1\n",
    "# station (str): categorical value, 17 unique values, place where the data was collected\n",
    "\n",
    "# dependent variables\n",
    "\n",
    "# PM2.5 (float): PM2.5 concentration in ug/m3. range from 0 to 1"
   ]
  }
 ],
 "metadata": {
  "kernelspec": {
   "display_name": "pollution",
   "language": "python",
   "name": "python3"
  },
  "language_info": {
   "codemirror_mode": {
    "name": "ipython",
    "version": 3
   },
   "file_extension": ".py",
   "mimetype": "text/x-python",
   "name": "python",
   "nbconvert_exporter": "python",
   "pygments_lexer": "ipython3",
   "version": "3.9.16"
  },
  "orig_nbformat": 4
 },
 "nbformat": 4,
 "nbformat_minor": 2
}
